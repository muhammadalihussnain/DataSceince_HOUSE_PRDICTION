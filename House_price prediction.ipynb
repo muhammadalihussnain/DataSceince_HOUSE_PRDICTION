{
 "cells": [
  {
   "cell_type": "code",
   "execution_count": 1,
   "id": "0522c1f1",
   "metadata": {
    "_cell_guid": "b1076dfc-b9ad-4769-8c92-a6c4dae69d19",
    "_uuid": "8f2839f25d086af736a60e9eeb907d3b93b6e0e5",
    "execution": {
     "iopub.execute_input": "2022-12-14T12:48:40.230867Z",
     "iopub.status.busy": "2022-12-14T12:48:40.230426Z",
     "iopub.status.idle": "2022-12-14T12:48:41.928657Z",
     "shell.execute_reply": "2022-12-14T12:48:41.926055Z"
    },
    "papermill": {
     "duration": 1.720857,
     "end_time": "2022-12-14T12:48:41.930713",
     "exception": true,
     "start_time": "2022-12-14T12:48:40.209856",
     "status": "failed"
    },
    "tags": []
   },
   "outputs": [
    {
     "ename": "NameError",
     "evalue": "name 'os' is not defined",
     "output_type": "error",
     "traceback": [
      "\u001b[0;31m---------------------------------------------------------------------------\u001b[0m",
      "\u001b[0;31mNameError\u001b[0m                                 Traceback (most recent call last)",
      "\u001b[0;32m/tmp/ipykernel_19/3890269180.py\u001b[0m in \u001b[0;36m<module>\u001b[0;34m\u001b[0m\n\u001b[1;32m     16\u001b[0m \u001b[0;32mfrom\u001b[0m \u001b[0mscipy\u001b[0m \u001b[0;32mimport\u001b[0m \u001b[0mstats\u001b[0m\u001b[0;34m\u001b[0m\u001b[0;34m\u001b[0m\u001b[0m\n\u001b[1;32m     17\u001b[0m \u001b[0;32mfrom\u001b[0m \u001b[0mmath\u001b[0m \u001b[0;32mimport\u001b[0m \u001b[0mceil\u001b[0m\u001b[0;34m\u001b[0m\u001b[0;34m\u001b[0m\u001b[0m\n\u001b[0;32m---> 18\u001b[0;31m \u001b[0;32mfor\u001b[0m \u001b[0mdirname\u001b[0m\u001b[0;34m,\u001b[0m \u001b[0m_\u001b[0m\u001b[0;34m,\u001b[0m \u001b[0mfilenames\u001b[0m \u001b[0;32min\u001b[0m \u001b[0mos\u001b[0m\u001b[0;34m.\u001b[0m\u001b[0mwalk\u001b[0m\u001b[0;34m(\u001b[0m\u001b[0;34m'/kaggle/input'\u001b[0m\u001b[0;34m)\u001b[0m\u001b[0;34m:\u001b[0m\u001b[0;34m\u001b[0m\u001b[0;34m\u001b[0m\u001b[0m\n\u001b[0m\u001b[1;32m     19\u001b[0m     \u001b[0;32mfor\u001b[0m \u001b[0mfilename\u001b[0m \u001b[0;32min\u001b[0m \u001b[0mfilenames\u001b[0m\u001b[0;34m:\u001b[0m\u001b[0;34m\u001b[0m\u001b[0;34m\u001b[0m\u001b[0m\n\u001b[1;32m     20\u001b[0m         \u001b[0mprint\u001b[0m\u001b[0;34m(\u001b[0m\u001b[0mos\u001b[0m\u001b[0;34m.\u001b[0m\u001b[0mpath\u001b[0m\u001b[0;34m.\u001b[0m\u001b[0mjoin\u001b[0m\u001b[0;34m(\u001b[0m\u001b[0mdirname\u001b[0m\u001b[0;34m,\u001b[0m \u001b[0mfilename\u001b[0m\u001b[0;34m)\u001b[0m\u001b[0;34m)\u001b[0m\u001b[0;34m\u001b[0m\u001b[0;34m\u001b[0m\u001b[0m\n",
      "\u001b[0;31mNameError\u001b[0m: name 'os' is not defined"
     ]
    }
   ],
   "source": [
    "import numpy as np\n",
    "import pandas as pd\n",
    "import matplotlib.pyplot as plt\n",
    "import seaborn as sns\n",
    "from pandas.api.types import CategoricalDtype\n",
    "\n",
    "# Machine Learning Libraries\n",
    "from sklearn.compose import ColumnTransformer\n",
    "from sklearn.pipeline import Pipeline\n",
    "from sklearn.impute import SimpleImputer\n",
    "from sklearn.preprocessing import OrdinalEncoder #LabelEncoder #OneHotEncoder\n",
    "from xgboost import XGBRegressor, plot_importance\n",
    "from sklearn.model_selection import GridSearchCV\n",
    "from sklearn.metrics import mean_squared_error, r2_score\n",
    "from sklearn.feature_selection import mutual_info_regression\n",
    "from scipy import stats\n",
    "from math import ceil\n",
    "for dirname, _, filenames in os.walk('/kaggle/input'):\n",
    "    for filename in filenames:\n",
    "        print(os.path.join(dirname, filename))"
   ]
  },
  {
   "cell_type": "code",
   "execution_count": null,
   "id": "f0e776ef",
   "metadata": {
    "execution": {
     "iopub.execute_input": "2022-12-14T12:45:10.917252Z",
     "iopub.status.busy": "2022-12-14T12:45:10.916860Z",
     "iopub.status.idle": "2022-12-14T12:45:10.964545Z",
     "shell.execute_reply": "2022-12-14T12:45:10.963457Z",
     "shell.execute_reply.started": "2022-12-14T12:45:10.917221Z"
    },
    "papermill": {
     "duration": null,
     "end_time": null,
     "exception": null,
     "start_time": null,
     "status": "pending"
    },
    "tags": []
   },
   "outputs": [],
   "source": [
    "Xy= pd.read_csv(\"/kaggle/input/house-prices-advanced-regression-techniques/train.csv\",index_col='Id')\n",
    "\n",
    "X_test= pd.read_csv(\"/kaggle/input/house-prices-advanced-regression-techniques/test.csv\",index_col='Id')\n",
    "\n",
    "Xy = Xy.dropna(subset=['SalePrice'],axis=0)\n",
    "# Separate target from predictors\n",
    "X = Xy.drop(['SalePrice'], axis=1)\n",
    "y = Xy.SalePrice\n"
   ]
  },
  {
   "cell_type": "code",
   "execution_count": null,
   "id": "5fa1aa29",
   "metadata": {
    "execution": {
     "iopub.execute_input": "2022-12-14T12:45:13.062151Z",
     "iopub.status.busy": "2022-12-14T12:45:13.061749Z",
     "iopub.status.idle": "2022-12-14T12:45:13.066918Z",
     "shell.execute_reply": "2022-12-14T12:45:13.065490Z",
     "shell.execute_reply.started": "2022-12-14T12:45:13.062117Z"
    },
    "papermill": {
     "duration": null,
     "end_time": null,
     "exception": null,
     "start_time": null,
     "status": "pending"
    },
    "tags": []
   },
   "outputs": [],
   "source": [
    "pd.set_option('display.max_rows', 100)\n",
    "pd.set_option('display.max_columns', 30)"
   ]
  },
  {
   "cell_type": "code",
   "execution_count": null,
   "id": "c3c384c8",
   "metadata": {
    "execution": {
     "iopub.execute_input": "2022-12-14T12:45:14.348361Z",
     "iopub.status.busy": "2022-12-14T12:45:14.347687Z",
     "iopub.status.idle": "2022-12-14T12:45:14.387719Z",
     "shell.execute_reply": "2022-12-14T12:45:14.386652Z",
     "shell.execute_reply.started": "2022-12-14T12:45:14.348324Z"
    },
    "papermill": {
     "duration": null,
     "end_time": null,
     "exception": null,
     "start_time": null,
     "status": "pending"
    },
    "tags": []
   },
   "outputs": [],
   "source": [
    "info = pd.DataFrame(data=X.dtypes,columns=['Dtype'])\n",
    "info[\"Unique\"]= X.nunique()\n",
    "info[\"Null\"]  = X.isnull().sum()\n",
    "info"
   ]
  },
  {
   "cell_type": "code",
   "execution_count": null,
   "id": "1d37cfda",
   "metadata": {
    "execution": {
     "iopub.execute_input": "2022-12-14T12:45:15.461035Z",
     "iopub.status.busy": "2022-12-14T12:45:15.460645Z",
     "iopub.status.idle": "2022-12-14T12:45:15.471936Z",
     "shell.execute_reply": "2022-12-14T12:45:15.470945Z",
     "shell.execute_reply.started": "2022-12-14T12:45:15.460991Z"
    },
    "papermill": {
     "duration": null,
     "end_time": null,
     "exception": null,
     "start_time": null,
     "status": "pending"
    },
    "tags": []
   },
   "outputs": [],
   "source": [
    "y.describe()\n"
   ]
  },
  {
   "cell_type": "code",
   "execution_count": null,
   "id": "ec763cda",
   "metadata": {
    "execution": {
     "iopub.execute_input": "2022-12-14T12:45:16.470419Z",
     "iopub.status.busy": "2022-12-14T12:45:16.469608Z",
     "iopub.status.idle": "2022-12-14T12:45:19.311923Z",
     "shell.execute_reply": "2022-12-14T12:45:19.311076Z",
     "shell.execute_reply.started": "2022-12-14T12:45:16.470373Z"
    },
    "papermill": {
     "duration": null,
     "end_time": null,
     "exception": null,
     "start_time": null,
     "status": "pending"
    },
    "tags": []
   },
   "outputs": [],
   "source": [
    "corr_matrix = X.corr()\n",
    "mask = np.triu(corr_matrix.corr())\n",
    "sbn.set(font_scale=1.1)\n",
    "plt.figure(figsize=(25,20))\n",
    "sbn.heatmap(corr_matrix,mask=mask,fmt ='.1f',annot=True,cmap='coolwarm',square=True,linewidths=2,cbar=False)\n",
    "plt.show()"
   ]
  },
  {
   "cell_type": "code",
   "execution_count": null,
   "id": "8f245854",
   "metadata": {
    "execution": {
     "iopub.execute_input": "2022-12-14T12:45:19.314101Z",
     "iopub.status.busy": "2022-12-14T12:45:19.313586Z",
     "iopub.status.idle": "2022-12-14T12:45:19.319614Z",
     "shell.execute_reply": "2022-12-14T12:45:19.318725Z",
     "shell.execute_reply.started": "2022-12-14T12:45:19.314067Z"
    },
    "papermill": {
     "duration": null,
     "end_time": null,
     "exception": null,
     "start_time": null,
     "status": "pending"
    },
    "tags": []
   },
   "outputs": [],
   "source": [
    "def show_null_values(x,y):\n",
    "    null_vals = pd.DataFrame(x.isnull().sum(),columns=['Train/null'])\n",
    "    null_vals['Test']= y.isnull().sum()\n",
    "    null_vals= null_vals.loc[(null_vals['Train/null']!=0) | (null_vals['Test']!=0) ]\n",
    "    null_vals = null_vals.sort_values(by = ['Train/null','Test'],ascending=False)\n",
    "    print(\"total null values\",null_vals.sum(),sep='\\n')\n",
    "    return"
   ]
  },
  {
   "cell_type": "code",
   "execution_count": null,
   "id": "ee9bee8a",
   "metadata": {
    "execution": {
     "iopub.execute_input": "2022-12-14T12:45:19.321539Z",
     "iopub.status.busy": "2022-12-14T12:45:19.321115Z",
     "iopub.status.idle": "2022-12-14T12:45:19.353203Z",
     "shell.execute_reply": "2022-12-14T12:45:19.351776Z",
     "shell.execute_reply.started": "2022-12-14T12:45:19.321507Z"
    },
    "papermill": {
     "duration": null,
     "end_time": null,
     "exception": null,
     "start_time": null,
     "status": "pending"
    },
    "tags": []
   },
   "outputs": [],
   "source": [
    "show_null_values(X,X_test)"
   ]
  },
  {
   "cell_type": "code",
   "execution_count": null,
   "id": "08be23e3",
   "metadata": {
    "execution": {
     "iopub.execute_input": "2022-12-14T12:45:19.357518Z",
     "iopub.status.busy": "2022-12-14T12:45:19.356732Z",
     "iopub.status.idle": "2022-12-14T12:45:19.392499Z",
     "shell.execute_reply": "2022-12-14T12:45:19.391630Z",
     "shell.execute_reply.started": "2022-12-14T12:45:19.357481Z"
    },
    "papermill": {
     "duration": null,
     "end_time": null,
     "exception": null,
     "start_time": null,
     "status": "pending"
    },
    "tags": []
   },
   "outputs": [],
   "source": [
    "null_cols = [col for col in X.columns if X[col].isnull().sum()>len(X[col])/2]\n",
    "null_cols"
   ]
  },
  {
   "cell_type": "code",
   "execution_count": null,
   "id": "b3108697",
   "metadata": {
    "execution": {
     "iopub.execute_input": "2022-12-14T12:45:19.394592Z",
     "iopub.status.busy": "2022-12-14T12:45:19.393643Z",
     "iopub.status.idle": "2022-12-14T12:45:19.402423Z",
     "shell.execute_reply": "2022-12-14T12:45:19.401445Z",
     "shell.execute_reply.started": "2022-12-14T12:45:19.394560Z"
    },
    "papermill": {
     "duration": null,
     "end_time": null,
     "exception": null,
     "start_time": null,
     "status": "pending"
    },
    "tags": []
   },
   "outputs": [],
   "source": [
    "\n",
    "X.drop(null_cols,axis=1,inplace=True)\n",
    "X_test.drop(null_cols,axis=1,inplace=True)\n"
   ]
  },
  {
   "cell_type": "code",
   "execution_count": null,
   "id": "d477dd55",
   "metadata": {
    "execution": {
     "iopub.execute_input": "2022-12-14T12:45:19.404106Z",
     "iopub.status.busy": "2022-12-14T12:45:19.403765Z",
     "iopub.status.idle": "2022-12-14T12:45:19.415254Z",
     "shell.execute_reply": "2022-12-14T12:45:19.414007Z",
     "shell.execute_reply.started": "2022-12-14T12:45:19.404078Z"
    },
    "papermill": {
     "duration": null,
     "end_time": null,
     "exception": null,
     "start_time": null,
     "status": "pending"
    },
    "tags": []
   },
   "outputs": [],
   "source": [
    "print(len(X.columns),len(X_test.columns))"
   ]
  },
  {
   "cell_type": "code",
   "execution_count": null,
   "id": "4c150b56",
   "metadata": {
    "execution": {
     "iopub.execute_input": "2022-12-14T12:45:22.476831Z",
     "iopub.status.busy": "2022-12-14T12:45:22.476457Z",
     "iopub.status.idle": "2022-12-14T12:45:22.485402Z",
     "shell.execute_reply": "2022-12-14T12:45:22.484097Z",
     "shell.execute_reply.started": "2022-12-14T12:45:22.476800Z"
    },
    "papermill": {
     "duration": null,
     "end_time": null,
     "exception": null,
     "start_time": null,
     "status": "pending"
    },
    "tags": []
   },
   "outputs": [],
   "source": [
    "X.columns"
   ]
  },
  {
   "cell_type": "code",
   "execution_count": null,
   "id": "6b4e5746",
   "metadata": {
    "execution": {
     "iopub.execute_input": "2022-12-14T12:45:23.857532Z",
     "iopub.status.busy": "2022-12-14T12:45:23.856446Z",
     "iopub.status.idle": "2022-12-14T12:45:23.865776Z",
     "shell.execute_reply": "2022-12-14T12:45:23.864739Z",
     "shell.execute_reply.started": "2022-12-14T12:45:23.857475Z"
    },
    "papermill": {
     "duration": null,
     "end_time": null,
     "exception": null,
     "start_time": null,
     "status": "pending"
    },
    "tags": []
   },
   "outputs": [],
   "source": [
    "object_cols = X.select_dtypes(include=\"object\")\n",
    "len(object_cols.columns)"
   ]
  },
  {
   "cell_type": "code",
   "execution_count": null,
   "id": "7b87392e",
   "metadata": {
    "execution": {
     "iopub.execute_input": "2022-12-14T12:45:25.203668Z",
     "iopub.status.busy": "2022-12-14T12:45:25.202405Z",
     "iopub.status.idle": "2022-12-14T12:45:38.301818Z",
     "shell.execute_reply": "2022-12-14T12:45:38.300576Z",
     "shell.execute_reply.started": "2022-12-14T12:45:25.203626Z"
    },
    "papermill": {
     "duration": null,
     "end_time": null,
     "exception": null,
     "start_time": null,
     "status": "pending"
    },
    "tags": []
   },
   "outputs": [],
   "source": [
    "sbn.set_style('white')\n",
    "fig ,ax = plt.subplots(nrows=13,ncols=3,figsize=(25,70),sharey=True,dpi=120)\n",
    "for (col,subplot) in zip(object_cols,ax.flatten()):\n",
    "    #print(X[col].value_counts())\n",
    "    #print(subplot)\n",
    "    plt.ylim([0,800000])\n",
    "    for tick in subplot.get_xticklabels():\n",
    "        tick.set_rotation(45)\n",
    "    sbn.violinplot(data=X,x=col,y=y,ax=subplot)"
   ]
  },
  {
   "cell_type": "code",
   "execution_count": null,
   "id": "c8de4437",
   "metadata": {
    "execution": {
     "iopub.execute_input": "2022-12-14T12:45:38.304992Z",
     "iopub.status.busy": "2022-12-14T12:45:38.304628Z",
     "iopub.status.idle": "2022-12-14T12:45:38.313364Z",
     "shell.execute_reply": "2022-12-14T12:45:38.312294Z",
     "shell.execute_reply.started": "2022-12-14T12:45:38.304960Z"
    },
    "papermill": {
     "duration": null,
     "end_time": null,
     "exception": null,
     "start_time": null,
     "status": "pending"
    },
    "tags": []
   },
   "outputs": [],
   "source": [
    "print(len(X.columns))\n",
    "X.drop(\"Utilities\",axis=1,inplace=True)\n",
    "print(len(X.columns))"
   ]
  },
  {
   "cell_type": "code",
   "execution_count": null,
   "id": "4e81cae1",
   "metadata": {
    "execution": {
     "iopub.execute_input": "2022-12-14T12:45:38.315693Z",
     "iopub.status.busy": "2022-12-14T12:45:38.314716Z",
     "iopub.status.idle": "2022-12-14T12:45:38.327690Z",
     "shell.execute_reply": "2022-12-14T12:45:38.326869Z",
     "shell.execute_reply.started": "2022-12-14T12:45:38.315659Z"
    },
    "papermill": {
     "duration": null,
     "end_time": null,
     "exception": null,
     "start_time": null,
     "status": "pending"
    },
    "tags": []
   },
   "outputs": [],
   "source": [
    "\n",
    "print(len(X_test.columns))\n",
    "X_test.drop(\"Utilities\",axis=1,inplace=True)\n",
    "print(len(X_test.columns))"
   ]
  },
  {
   "cell_type": "code",
   "execution_count": null,
   "id": "7143a6f5",
   "metadata": {
    "execution": {
     "iopub.execute_input": "2022-12-14T12:45:40.866609Z",
     "iopub.status.busy": "2022-12-14T12:45:40.866206Z",
     "iopub.status.idle": "2022-12-14T12:45:40.881681Z",
     "shell.execute_reply": "2022-12-14T12:45:40.880272Z",
     "shell.execute_reply.started": "2022-12-14T12:45:40.866576Z"
    },
    "papermill": {
     "duration": null,
     "end_time": null,
     "exception": null,
     "start_time": null,
     "status": "pending"
    },
    "tags": []
   },
   "outputs": [],
   "source": [
    "x1= pd.DataFrame([[1,2],[3,4]])\n",
    "x2=pd.DataFrame([[5,6],[6,7]])\n",
    "#x3=pd.concat(x1,x2).................\n",
    "type(x1),type(x2)\n",
    "x3 = pd.concat([x1,x2],axis=1)\n",
    "x3"
   ]
  },
  {
   "cell_type": "code",
   "execution_count": null,
   "id": "528d3e1e",
   "metadata": {
    "execution": {
     "iopub.execute_input": "2022-12-14T12:45:45.392971Z",
     "iopub.status.busy": "2022-12-14T12:45:45.392591Z",
     "iopub.status.idle": "2022-12-14T12:45:45.412363Z",
     "shell.execute_reply": "2022-12-14T12:45:45.411584Z",
     "shell.execute_reply.started": "2022-12-14T12:45:45.392939Z"
    },
    "papermill": {
     "duration": null,
     "end_time": null,
     "exception": null,
     "start_time": null,
     "status": "pending"
    },
    "tags": []
   },
   "outputs": [],
   "source": [
    "print(X.shape,X_test.shape)\n",
    "df= pd.concat([X,X_test])\n",
    "print(f\"shape after concatination {df.shape}\",type(df))"
   ]
  },
  {
   "cell_type": "code",
   "execution_count": null,
   "id": "deb30e8f",
   "metadata": {
    "execution": {
     "iopub.execute_input": "2022-12-14T12:45:47.893147Z",
     "iopub.status.busy": "2022-12-14T12:45:47.892747Z",
     "iopub.status.idle": "2022-12-14T12:45:47.925239Z",
     "shell.execute_reply": "2022-12-14T12:45:47.923790Z",
     "shell.execute_reply.started": "2022-12-14T12:45:47.893114Z"
    },
    "papermill": {
     "duration": null,
     "end_time": null,
     "exception": null,
     "start_time": null,
     "status": "pending"
    },
    "tags": []
   },
   "outputs": [],
   "source": [
    "X.head(3)"
   ]
  },
  {
   "cell_type": "markdown",
   "id": "c4181f56",
   "metadata": {
    "execution": {
     "iopub.execute_input": "2022-12-13T11:05:20.273405Z",
     "iopub.status.busy": "2022-12-13T11:05:20.272230Z",
     "iopub.status.idle": "2022-12-13T11:05:20.281000Z",
     "shell.execute_reply": "2022-12-13T11:05:20.279822Z",
     "shell.execute_reply.started": "2022-12-13T11:05:20.273360Z"
    },
    "papermill": {
     "duration": null,
     "end_time": null,
     "exception": null,
     "start_time": null,
     "status": "pending"
    },
    "tags": []
   },
   "source": [
    "# df.columns"
   ]
  },
  {
   "cell_type": "code",
   "execution_count": null,
   "id": "5251d65b",
   "metadata": {
    "execution": {
     "iopub.execute_input": "2022-12-14T12:45:51.687871Z",
     "iopub.status.busy": "2022-12-14T12:45:51.687434Z",
     "iopub.status.idle": "2022-12-14T12:45:51.713201Z",
     "shell.execute_reply": "2022-12-14T12:45:51.711979Z",
     "shell.execute_reply.started": "2022-12-14T12:45:51.687838Z"
    },
    "papermill": {
     "duration": null,
     "end_time": null,
     "exception": null,
     "start_time": null,
     "status": "pending"
    },
    "tags": []
   },
   "outputs": [],
   "source": [
    "df1= pd.DataFrame()\n",
    "df1[\"Age\"] = df['YrSold']-df['YearBuilt']\n",
    "df1['AgeRemodel'] =df['YrSold']-df['YearRemodAdd']  \n",
    "years = ['YrSold','YearBuilt','AgeRemodel','Age']\n",
    "df_1=pd.concat([df,df1],axis=1).loc[:,cols]\n",
    "\n",
    "X_1 = df_1.loc[X.index, :]\n",
    "print(X_1.shape)\n",
    "print(y.shape)\n",
    "df_1.sample()\n"
   ]
  },
  {
   "cell_type": "code",
   "execution_count": null,
   "id": "686307a5",
   "metadata": {
    "execution": {
     "iopub.execute_input": "2022-12-14T12:45:53.581873Z",
     "iopub.status.busy": "2022-12-14T12:45:53.580928Z",
     "iopub.status.idle": "2022-12-14T12:45:55.669081Z",
     "shell.execute_reply": "2022-12-14T12:45:55.667732Z",
     "shell.execute_reply.started": "2022-12-14T12:45:53.581835Z"
    },
    "papermill": {
     "duration": null,
     "end_time": null,
     "exception": null,
     "start_time": null,
     "status": "pending"
    },
    "tags": []
   },
   "outputs": [],
   "source": [
    "sbn.set_style('whitegrid')\n",
    "sbn.set(font_scale=1.5)\n",
    "fig, ax = plt.subplots(1, 4, figsize=(20, 6), dpi=200)\n",
    "for col,i in zip(cols, [0,1,2,3]):\n",
    "    sbn.scatterplot(x=X_1.loc[:,col],y=y, ax=ax[i],hue=X.ExterQual, palette='pastel')\n",
    "plt.ylim([0,800000])    \n",
    "fig.tight_layout()\n",
    "fig.text(0.5, 1, 'Distribution of SalesPrice with respect to years columns', size=40, ha=\"center\", va=\"center\")\n",
    "plt.show()"
   ]
  },
  {
   "cell_type": "code",
   "execution_count": null,
   "id": "e4a40f51",
   "metadata": {
    "execution": {
     "iopub.execute_input": "2022-12-14T12:46:00.158988Z",
     "iopub.status.busy": "2022-12-14T12:46:00.158608Z",
     "iopub.status.idle": "2022-12-14T12:46:01.997350Z",
     "shell.execute_reply": "2022-12-14T12:46:01.996094Z",
     "shell.execute_reply.started": "2022-12-14T12:46:00.158958Z"
    },
    "papermill": {
     "duration": null,
     "end_time": null,
     "exception": null,
     "start_time": null,
     "status": "pending"
    },
    "tags": []
   },
   "outputs": [],
   "source": [
    "sbn.set_style(\"dark\")\n",
    "sbn.set(rc={'figure.figsize':(11.7,8.27),\"font.size\":20,\"axes.titlesize\":20,\"axes.labelsize\":20},style=\"white\")\n",
    "sbn.set(font_scale=1.5)\n",
    "fig,ax = plt.subplots(nrows=1,ncols=4,figsize=(20,5),sharey=True,dpi=140)\n",
    "for (col,i) in zip(cols,[0,1,2,3]):\n",
    "    sbn.scatterplot(x=X_1.loc[:,col],y=y,hue=X.ExterQual, palette='pastel',ax=ax[i])\n",
    "fig.tight_layout()\n",
    "fig.text(0.5,1,\"Scatter Plot For various columns\",size=30,ha='center')\n",
    "plt.show()"
   ]
  },
  {
   "cell_type": "markdown",
   "id": "be5be62b",
   "metadata": {
    "papermill": {
     "duration": null,
     "end_time": null,
     "exception": null,
     "start_time": null,
     "status": "pending"
    },
    "tags": []
   },
   "source": [
    "finding corelation with years columns with sale price"
   ]
  },
  {
   "cell_type": "code",
   "execution_count": null,
   "id": "2307f589",
   "metadata": {
    "execution": {
     "iopub.execute_input": "2022-12-14T12:46:02.242417Z",
     "iopub.status.busy": "2022-12-14T12:46:02.242030Z",
     "iopub.status.idle": "2022-12-14T12:46:02.255751Z",
     "shell.execute_reply": "2022-12-14T12:46:02.254467Z",
     "shell.execute_reply.started": "2022-12-14T12:46:02.242386Z"
    },
    "papermill": {
     "duration": null,
     "end_time": null,
     "exception": null,
     "start_time": null,
     "status": "pending"
    },
    "tags": []
   },
   "outputs": [],
   "source": [
    "X_1.corrwith(y)"
   ]
  },
  {
   "cell_type": "code",
   "execution_count": null,
   "id": "63e20d21",
   "metadata": {
    "execution": {
     "iopub.execute_input": "2022-12-14T12:46:02.578962Z",
     "iopub.status.busy": "2022-12-14T12:46:02.578548Z",
     "iopub.status.idle": "2022-12-14T12:46:02.609579Z",
     "shell.execute_reply": "2022-12-14T12:46:02.608405Z",
     "shell.execute_reply.started": "2022-12-14T12:46:02.578930Z"
    },
    "papermill": {
     "duration": null,
     "end_time": null,
     "exception": null,
     "start_time": null,
     "status": "pending"
    },
    "tags": []
   },
   "outputs": [],
   "source": [
    "df2 = pd.DataFrame()\n",
    "df2['Remodel']= df['YearRemodAdd']!=df['YearBuilt']\n",
    "df2[\"Garage\"] = df['GarageQual'].notnull()\n",
    "df2['FirePlace'] = df['FireplaceQu'].notnull()\n",
    "df2[\"Bsmt\"]   =  df[\"BsmtQual\"].notnull()\n",
    "df2['Masonry'] = df['MasVnrType'].notnull()\n",
    "df2.replace([True,False],[1,0],inplace=True)\n",
    "print(df2.shape)\n",
    "df2.head()"
   ]
  },
  {
   "cell_type": "code",
   "execution_count": null,
   "id": "fa543d87",
   "metadata": {
    "execution": {
     "iopub.execute_input": "2022-12-14T12:46:02.923461Z",
     "iopub.status.busy": "2022-12-14T12:46:02.923075Z",
     "iopub.status.idle": "2022-12-14T12:46:02.934095Z",
     "shell.execute_reply": "2022-12-14T12:46:02.932757Z",
     "shell.execute_reply.started": "2022-12-14T12:46:02.923430Z"
    },
    "papermill": {
     "duration": null,
     "end_time": null,
     "exception": null,
     "start_time": null,
     "status": "pending"
    },
    "tags": []
   },
   "outputs": [],
   "source": [
    "df.shape"
   ]
  },
  {
   "cell_type": "code",
   "execution_count": null,
   "id": "dd4640c2",
   "metadata": {
    "execution": {
     "iopub.execute_input": "2022-12-14T12:46:03.010681Z",
     "iopub.status.busy": "2022-12-14T12:46:03.010287Z",
     "iopub.status.idle": "2022-12-14T12:46:03.032701Z",
     "shell.execute_reply": "2022-12-14T12:46:03.031611Z",
     "shell.execute_reply.started": "2022-12-14T12:46:03.010649Z"
    },
    "papermill": {
     "duration": null,
     "end_time": null,
     "exception": null,
     "start_time": null,
     "status": "pending"
    },
    "tags": []
   },
   "outputs": [],
   "source": [
    "object_cols = df.select_dtypes(include=['object']).columns\n",
    "ordinal_col1 = [col for col in object_cols if (\"QC\" in col)or (\"Qu\" in col)or  (\"Fin\" in col) or(\"Cond\" in col)  and ('Condition' not in col)]\n",
    "{col:[*df[col].unique()] for col in ordinal_col1}"
   ]
  },
  {
   "cell_type": "code",
   "execution_count": null,
   "id": "f806afba",
   "metadata": {
    "execution": {
     "iopub.execute_input": "2022-12-14T12:46:03.282966Z",
     "iopub.status.busy": "2022-12-14T12:46:03.282157Z",
     "iopub.status.idle": "2022-12-14T12:46:03.384863Z",
     "shell.execute_reply": "2022-12-14T12:46:03.383605Z",
     "shell.execute_reply.started": "2022-12-14T12:46:03.282920Z"
    },
    "papermill": {
     "duration": null,
     "end_time": null,
     "exception": null,
     "start_time": null,
     "status": "pending"
    },
    "tags": []
   },
   "outputs": [],
   "source": [
    "object_cols = df.select_dtypes(include=['object']).columns\n",
    "ordinal_cols1 = [col for col in object_cols if (\"QC\" in col)or (\"Qu\" in col)or  (\"Fin\" in col) or(\"Cond\" in col)  and ('Condition' not in col)]\n",
    "print(ordinal_cols1)\n",
    "6#print({col:[*df[col].unique()] for col in ordinal_col1})\n",
    "df.loc[:,ordinal_col1] = df.loc[:,ordinal_col1].fillna(\"NA\")\n",
    "df.loc[:,ordinal_col1] = df.loc[:,ordinal_col1].replace(['NA','Fa','Po','TA','Gd','Ex'],[0,1,2,3,4,5])\n",
    "ordinal_col2 = ['BsmtFinType1','BsmtFinType2']\n",
    "df.loc[:,ordinal_col2] =  df.loc[:,ordinal_col2].fillna('NA')\n",
    "df.loc[:,ordinal_col2] =  df.loc[:,ordinal_col2].replace(['NA', 'Unf', 'LwQ', 'Rec', 'BLQ', 'ALQ', 'GLQ'], [0,1,2,3,4,5,6])\n",
    "ordinal_cols3 = ['BsmtExposure']\n",
    "df.loc[:,ordinal_cols3] = df.loc[:,ordinal_cols3].fillna('NA')\n",
    "df.loc[:,ordinal_cols3] = df.loc[:,ordinal_cols3].replace(['NA', 'No', 'Mn', 'Av', 'Gd'], [0,1,2,3,4])\n",
    "ordinal_cols4 = ['LotShape']\n",
    "df.loc[:,ordinal_cols4] = df.loc[:,ordinal_cols4].replace(['Reg', 'IR1', 'IR2', 'IR3'], [0,1,2,3])\n",
    "ordinal_cols5 = ['GarageFinish']\n",
    "df.loc[:,ordinal_cols5] = df.loc[:,ordinal_cols5].replace(['NA', 'Unf', 'RFn', 'Fin'], [0,1,2,3])\n",
    "ordinal_cols6 = ['Functional']\n",
    "df.loc[:,ordinal_cols3] = df.loc[:,ordinal_cols3].fillna('Mod')\n",
    "df.loc[:,ordinal_cols6] = df.loc[:,ordinal_cols6].replace([\"Sal\", \"Sev\", \"Maj2\", \"Maj1\", \"Mod\", \"Min2\", \"Min1\", \"Typ\"], list(range(8)))\n",
    "df.shape"
   ]
  },
  {
   "cell_type": "code",
   "execution_count": null,
   "id": "f168079f",
   "metadata": {
    "execution": {
     "iopub.execute_input": "2022-12-14T12:46:04.228854Z",
     "iopub.status.busy": "2022-12-14T12:46:04.228077Z",
     "iopub.status.idle": "2022-12-14T12:46:04.240299Z",
     "shell.execute_reply": "2022-12-14T12:46:04.239097Z",
     "shell.execute_reply.started": "2022-12-14T12:46:04.228811Z"
    },
    "papermill": {
     "duration": null,
     "end_time": null,
     "exception": null,
     "start_time": null,
     "status": "pending"
    },
    "tags": []
   },
   "outputs": [],
   "source": [
    "o_columns = ordinal_cols1+ordinal_col2+ordinal_cols3+ordinal_cols4+ordinal_cols5+ordinal_cols6\n",
    "df.loc[:,o_columns].dtypes.value_counts()"
   ]
  },
  {
   "cell_type": "code",
   "execution_count": null,
   "id": "efa88ae8",
   "metadata": {
    "execution": {
     "iopub.execute_input": "2022-12-14T12:46:04.324688Z",
     "iopub.status.busy": "2022-12-14T12:46:04.323472Z",
     "iopub.status.idle": "2022-12-14T12:46:04.331581Z",
     "shell.execute_reply": "2022-12-14T12:46:04.330391Z",
     "shell.execute_reply.started": "2022-12-14T12:46:04.324648Z"
    },
    "papermill": {
     "duration": null,
     "end_time": null,
     "exception": null,
     "start_time": null,
     "status": "pending"
    },
    "tags": []
   },
   "outputs": [],
   "source": [
    "Bath_cols = [i for i in df.columns if 'Bath' in i]\n",
    "Bath_cols"
   ]
  },
  {
   "cell_type": "code",
   "execution_count": null,
   "id": "1b7d9d64",
   "metadata": {
    "execution": {
     "iopub.execute_input": "2022-12-14T12:46:04.433468Z",
     "iopub.status.busy": "2022-12-14T12:46:04.433042Z",
     "iopub.status.idle": "2022-12-14T12:46:04.442663Z",
     "shell.execute_reply": "2022-12-14T12:46:04.441443Z",
     "shell.execute_reply.started": "2022-12-14T12:46:04.433433Z"
    },
    "papermill": {
     "duration": null,
     "end_time": null,
     "exception": null,
     "start_time": null,
     "status": "pending"
    },
    "tags": []
   },
   "outputs": [],
   "source": [
    "SF_cols = ['TotalBsmtSF','1stFlrSF','2ndFlrSF']\n",
    "df[SF_cols+Bath_cols] = df[SF_cols+Bath_cols].fillna(0)"
   ]
  },
  {
   "cell_type": "code",
   "execution_count": null,
   "id": "314acbe6",
   "metadata": {
    "execution": {
     "iopub.execute_input": "2022-12-14T12:46:04.639914Z",
     "iopub.status.busy": "2022-12-14T12:46:04.639537Z",
     "iopub.status.idle": "2022-12-14T12:46:04.673919Z",
     "shell.execute_reply": "2022-12-14T12:46:04.672733Z",
     "shell.execute_reply.started": "2022-12-14T12:46:04.639885Z"
    },
    "papermill": {
     "duration": null,
     "end_time": null,
     "exception": null,
     "start_time": null,
     "status": "pending"
    },
    "tags": []
   },
   "outputs": [],
   "source": [
    "df3 = pd.DataFrame() \n",
    "df3[\"Liv_Qual\"] = (df.OverallQual + df.OverallCond/3) * df.GrLivArea\n",
    "df3[\"GarageArea_Qual\"] = (df.GarageQual + df.GarageCond/3) * df.GarageArea * df.GarageCars\n",
    "df3['BsmtArea_Qual'] = (df.BsmtQual * df.BsmtCond/3) * df.TotalBsmtSF\n",
    "df3[\"LivLotRatio\"] = df.GrLivArea / df.LotArea\n",
    "df3[\"Spaciousness\"] = (df['1stFlrSF'] + df['2ndFlrSF']) / df.TotRmsAbvGrd\n",
    "df3['TotalSF'] = df[SF_cols].sum(axis = 1)\n",
    "df3['TotalBath'] = df.FullBath + df.BsmtFullBath + df.HalfBath/2 + df.BsmtHalfBath/2\n",
    "df3.head()"
   ]
  },
  {
   "cell_type": "code",
   "execution_count": null,
   "id": "60f216f0",
   "metadata": {
    "execution": {
     "iopub.execute_input": "2022-12-14T12:46:04.748374Z",
     "iopub.status.busy": "2022-12-14T12:46:04.747980Z",
     "iopub.status.idle": "2022-12-14T12:46:04.763057Z",
     "shell.execute_reply": "2022-12-14T12:46:04.761799Z",
     "shell.execute_reply.started": "2022-12-14T12:46:04.748344Z"
    },
    "papermill": {
     "duration": null,
     "end_time": null,
     "exception": null,
     "start_time": null,
     "status": "pending"
    },
    "tags": []
   },
   "outputs": [],
   "source": [
    "df4 = pd.DataFrame()\n",
    "\n",
    "Porches = [\"WoodDeckSF\",\"OpenPorchSF\",\"EnclosedPorch\",\"3SsnPorch\",\"ScreenPorch\"]\n",
    "df4[\"PorchTypes\"] = df[Porches].gt(0.0).sum(axis=1)\n",
    "df4.head()\n"
   ]
  },
  {
   "cell_type": "code",
   "execution_count": null,
   "id": "f641fbeb",
   "metadata": {
    "execution": {
     "iopub.execute_input": "2022-12-14T12:46:04.993160Z",
     "iopub.status.busy": "2022-12-14T12:46:04.991937Z",
     "iopub.status.idle": "2022-12-14T12:46:05.001927Z",
     "shell.execute_reply": "2022-12-14T12:46:05.000909Z",
     "shell.execute_reply.started": "2022-12-14T12:46:04.993116Z"
    },
    "papermill": {
     "duration": null,
     "end_time": null,
     "exception": null,
     "start_time": null,
     "status": "pending"
    },
    "tags": []
   },
   "outputs": [],
   "source": [
    "df5 = pd.DataFrame()\n",
    "df5[\"MedNhbdArea\"] = df.groupby(\"Neighborhood\")[\"GrLivArea\"].transform(\"median\")"
   ]
  },
  {
   "cell_type": "code",
   "execution_count": null,
   "id": "32bd5c68",
   "metadata": {
    "execution": {
     "iopub.execute_input": "2022-12-14T12:46:05.242703Z",
     "iopub.status.busy": "2022-12-14T12:46:05.241685Z",
     "iopub.status.idle": "2022-12-14T12:46:05.250657Z",
     "shell.execute_reply": "2022-12-14T12:46:05.249404Z",
     "shell.execute_reply.started": "2022-12-14T12:46:05.242661Z"
    },
    "papermill": {
     "duration": null,
     "end_time": null,
     "exception": null,
     "start_time": null,
     "status": "pending"
    },
    "tags": []
   },
   "outputs": [],
   "source": [
    "\n",
    "\n",
    "df6 = pd.DataFrame()  # dataframe to hold new features\n",
    "\n",
    "df6 = pd.get_dummies(df.BldgType, prefix=\"Bldg\")\n",
    "df6 = df6.mul(df.GrLivArea, axis=0)\n",
    "\n"
   ]
  },
  {
   "cell_type": "code",
   "execution_count": null,
   "id": "4bdce52e",
   "metadata": {
    "execution": {
     "iopub.execute_input": "2022-12-14T12:46:05.435175Z",
     "iopub.status.busy": "2022-12-14T12:46:05.434182Z",
     "iopub.status.idle": "2022-12-14T12:46:05.458630Z",
     "shell.execute_reply": "2022-12-14T12:46:05.457425Z",
     "shell.execute_reply.started": "2022-12-14T12:46:05.435135Z"
    },
    "papermill": {
     "duration": null,
     "end_time": null,
     "exception": null,
     "start_time": null,
     "status": "pending"
    },
    "tags": []
   },
   "outputs": [],
   "source": [
    "before = df.shape[1]\n",
    "\n",
    "# Drop categorical columns with high cardinality (number of unique values in a column)\n",
    "cat_columns_to_drop = [cname for cname in X.select_dtypes([\"object\",\"category\",\"bool\"]).columns\n",
    "                    if X[cname].nunique() > 10]\n",
    "df.drop(cat_columns_to_drop, axis=1, inplace=True)\n",
    "\n",
    "after = df.shape[1]\n",
    "\n",
    "print(f'Number of columns reduced from {before} to {after}')"
   ]
  },
  {
   "cell_type": "code",
   "execution_count": null,
   "id": "5d3bd8ac",
   "metadata": {
    "execution": {
     "iopub.execute_input": "2022-12-14T12:46:05.637745Z",
     "iopub.status.busy": "2022-12-14T12:46:05.637343Z",
     "iopub.status.idle": "2022-12-14T12:46:05.659867Z",
     "shell.execute_reply": "2022-12-14T12:46:05.658789Z",
     "shell.execute_reply.started": "2022-12-14T12:46:05.637710Z"
    },
    "papermill": {
     "duration": null,
     "end_time": null,
     "exception": null,
     "start_time": null,
     "status": "pending"
    },
    "tags": []
   },
   "outputs": [],
   "source": [
    "cat_columns = list(df.select_dtypes('object').columns)\n",
    "before = df[cat_columns].nunique().sum()\n",
    "before"
   ]
  },
  {
   "cell_type": "code",
   "execution_count": null,
   "id": "317ec51a",
   "metadata": {
    "execution": {
     "iopub.execute_input": "2022-12-14T12:46:06.027932Z",
     "iopub.status.busy": "2022-12-14T12:46:06.026913Z",
     "iopub.status.idle": "2022-12-14T12:46:06.037802Z",
     "shell.execute_reply": "2022-12-14T12:46:06.036628Z",
     "shell.execute_reply.started": "2022-12-14T12:46:06.027894Z"
    },
    "papermill": {
     "duration": null,
     "end_time": null,
     "exception": null,
     "start_time": null,
     "status": "pending"
    },
    "tags": []
   },
   "outputs": [],
   "source": [
    "df.HouseStyle.value_counts(normalize=True)"
   ]
  },
  {
   "cell_type": "code",
   "execution_count": null,
   "id": "12a9e234",
   "metadata": {
    "execution": {
     "iopub.execute_input": "2022-12-14T12:46:06.200168Z",
     "iopub.status.busy": "2022-12-14T12:46:06.199047Z",
     "iopub.status.idle": "2022-12-14T12:46:06.245696Z",
     "shell.execute_reply": "2022-12-14T12:46:06.244485Z",
     "shell.execute_reply.started": "2022-12-14T12:46:06.200128Z"
    },
    "papermill": {
     "duration": null,
     "end_time": null,
     "exception": null,
     "start_time": null,
     "status": "pending"
    },
    "tags": []
   },
   "outputs": [],
   "source": [
    "for col in cat_columns:\n",
    "    df[col]=df[col].mask(df[col].map(df[col].value_counts(normalize=True)) < 0.01, 'Other')"
   ]
  },
  {
   "cell_type": "code",
   "execution_count": null,
   "id": "57bbfb29",
   "metadata": {
    "execution": {
     "iopub.execute_input": "2022-12-14T12:46:06.415432Z",
     "iopub.status.busy": "2022-12-14T12:46:06.414995Z",
     "iopub.status.idle": "2022-12-14T12:46:06.433363Z",
     "shell.execute_reply": "2022-12-14T12:46:06.432199Z",
     "shell.execute_reply.started": "2022-12-14T12:46:06.415397Z"
    },
    "papermill": {
     "duration": null,
     "end_time": null,
     "exception": null,
     "start_time": null,
     "status": "pending"
    },
    "tags": []
   },
   "outputs": [],
   "source": [
    "after = df[cat_columns].nunique().sum()\n",
    "print(f'Number of unique categories reduced from {before} to {after}')"
   ]
  },
  {
   "cell_type": "code",
   "execution_count": null,
   "id": "42a52924",
   "metadata": {
    "execution": {
     "iopub.execute_input": "2022-12-14T12:46:06.926598Z",
     "iopub.status.busy": "2022-12-14T12:46:06.926225Z",
     "iopub.status.idle": "2022-12-14T12:46:06.936923Z",
     "shell.execute_reply": "2022-12-14T12:46:06.935632Z",
     "shell.execute_reply.started": "2022-12-14T12:46:06.926568Z"
    },
    "papermill": {
     "duration": null,
     "end_time": null,
     "exception": null,
     "start_time": null,
     "status": "pending"
    },
    "tags": []
   },
   "outputs": [],
   "source": [
    "df.HouseStyle.value_counts(normalize=True)*100"
   ]
  },
  {
   "cell_type": "code",
   "execution_count": null,
   "id": "92238ff2",
   "metadata": {
    "execution": {
     "iopub.execute_input": "2022-12-14T12:46:07.004032Z",
     "iopub.status.busy": "2022-12-14T12:46:07.003604Z",
     "iopub.status.idle": "2022-12-14T12:46:07.049476Z",
     "shell.execute_reply": "2022-12-14T12:46:07.048341Z",
     "shell.execute_reply.started": "2022-12-14T12:46:07.003979Z"
    },
    "papermill": {
     "duration": null,
     "end_time": null,
     "exception": null,
     "start_time": null,
     "status": "pending"
    },
    "tags": []
   },
   "outputs": [],
   "source": [
    "features_nom = [\"MSSubClass\"] + cat_columns\n",
    "\n",
    "# Cast each of the above 21 columns into 'category' DataType\n",
    "for name in features_nom:\n",
    "    df[name] = df[name].astype(\"category\")\n",
    "    \n",
    "    # Add a None category for missing values\n",
    "    if \"NA\" not in df[name].cat.categories:\n",
    "        df[name] = df[name].cat.add_categories(\"NA\")"
   ]
  },
  {
   "cell_type": "code",
   "execution_count": null,
   "id": "d6c708b7",
   "metadata": {
    "execution": {
     "iopub.execute_input": "2022-12-14T12:46:07.260212Z",
     "iopub.status.busy": "2022-12-14T12:46:07.259807Z",
     "iopub.status.idle": "2022-12-14T12:46:07.280960Z",
     "shell.execute_reply": "2022-12-14T12:46:07.279866Z",
     "shell.execute_reply.started": "2022-12-14T12:46:07.260169Z"
    },
    "papermill": {
     "duration": null,
     "end_time": null,
     "exception": null,
     "start_time": null,
     "status": "pending"
    },
    "tags": []
   },
   "outputs": [],
   "source": [
    "for colname in df.select_dtypes([\"category\"]):\n",
    "    df[colname] = df[colname].cat.codes"
   ]
  },
  {
   "cell_type": "code",
   "execution_count": null,
   "id": "4a6351be",
   "metadata": {
    "execution": {
     "iopub.execute_input": "2022-12-14T12:46:07.549459Z",
     "iopub.status.busy": "2022-12-14T12:46:07.549094Z",
     "iopub.status.idle": "2022-12-14T12:46:07.559388Z",
     "shell.execute_reply": "2022-12-14T12:46:07.557928Z",
     "shell.execute_reply.started": "2022-12-14T12:46:07.549429Z"
    },
    "papermill": {
     "duration": null,
     "end_time": null,
     "exception": null,
     "start_time": null,
     "status": "pending"
    },
    "tags": []
   },
   "outputs": [],
   "source": [
    "df.dtypes.value_counts()"
   ]
  },
  {
   "cell_type": "code",
   "execution_count": null,
   "id": "229e1ad8",
   "metadata": {
    "execution": {
     "iopub.execute_input": "2022-12-14T12:46:07.928340Z",
     "iopub.status.busy": "2022-12-14T12:46:07.927927Z",
     "iopub.status.idle": "2022-12-14T12:46:07.965662Z",
     "shell.execute_reply": "2022-12-14T12:46:07.964423Z",
     "shell.execute_reply.started": "2022-12-14T12:46:07.928309Z"
    },
    "papermill": {
     "duration": null,
     "end_time": null,
     "exception": null,
     "start_time": null,
     "status": "pending"
    },
    "tags": []
   },
   "outputs": [],
   "source": [
    "\n",
    "\n",
    "\n",
    "df = pd.concat([df,df1,df2,df3,df4,df5,df6], axis=1)\n",
    "df.drop(years+Porches,axis=1, inplace=True)\n",
    "df.sample()\n",
    "\n"
   ]
  },
  {
   "cell_type": "code",
   "execution_count": null,
   "id": "a8d9550b",
   "metadata": {
    "execution": {
     "iopub.execute_input": "2022-12-14T12:46:08.171760Z",
     "iopub.status.busy": "2022-12-14T12:46:08.171373Z",
     "iopub.status.idle": "2022-12-14T12:46:08.180226Z",
     "shell.execute_reply": "2022-12-14T12:46:08.178959Z",
     "shell.execute_reply.started": "2022-12-14T12:46:08.171728Z"
    },
    "papermill": {
     "duration": null,
     "end_time": null,
     "exception": null,
     "start_time": null,
     "status": "pending"
    },
    "tags": []
   },
   "outputs": [],
   "source": [
    "X = df.loc[X.index, :]\n",
    "X_test = df.loc[X_test.index, :]"
   ]
  },
  {
   "cell_type": "code",
   "execution_count": null,
   "id": "ec7c7c6c",
   "metadata": {
    "execution": {
     "iopub.execute_input": "2022-12-14T12:46:08.786388Z",
     "iopub.status.busy": "2022-12-14T12:46:08.785988Z",
     "iopub.status.idle": "2022-12-14T12:46:08.792250Z",
     "shell.execute_reply": "2022-12-14T12:46:08.791066Z",
     "shell.execute_reply.started": "2022-12-14T12:46:08.786356Z"
    },
    "papermill": {
     "duration": null,
     "end_time": null,
     "exception": null,
     "start_time": null,
     "status": "pending"
    },
    "tags": []
   },
   "outputs": [],
   "source": [
    "print(X.shape,X_test.shape,sep='\\n')"
   ]
  },
  {
   "cell_type": "code",
   "execution_count": null,
   "id": "9c913305",
   "metadata": {
    "execution": {
     "iopub.execute_input": "2022-12-14T12:46:09.001158Z",
     "iopub.status.busy": "2022-12-14T12:46:09.000265Z",
     "iopub.status.idle": "2022-12-14T12:46:09.023719Z",
     "shell.execute_reply": "2022-12-14T12:46:09.022362Z",
     "shell.execute_reply.started": "2022-12-14T12:46:09.001115Z"
    },
    "papermill": {
     "duration": null,
     "end_time": null,
     "exception": null,
     "start_time": null,
     "status": "pending"
    },
    "tags": []
   },
   "outputs": [],
   "source": [
    "my_imputer = SimpleImputer(missing_values = np.nan, strategy ='constant', fill_value=0)\n",
    " \n",
    "# Fitting the data to the imputer object\n",
    "imputed_X = pd.DataFrame(my_imputer.fit_transform(X))\n",
    "imputed_X_test = pd.DataFrame(my_imputer.transform(X_test))\n",
    "\n",
    "# Imputation removed column names and indices; put them back\n",
    "imputed_X.columns = X.columns\n",
    "imputed_X_test.columns = X_test.columns\n",
    "imputed_X.index = X.index\n",
    "imputed_X_test.index = X_test.index\n",
    " \n",
    "# Using original names of DataSets\n",
    "X = imputed_X\n",
    "X_test = imputed_X_test"
   ]
  },
  {
   "cell_type": "code",
   "execution_count": null,
   "id": "f3a0e47d",
   "metadata": {
    "execution": {
     "iopub.execute_input": "2022-12-14T12:46:09.265562Z",
     "iopub.status.busy": "2022-12-14T12:46:09.265181Z",
     "iopub.status.idle": "2022-12-14T12:46:09.279786Z",
     "shell.execute_reply": "2022-12-14T12:46:09.278180Z",
     "shell.execute_reply.started": "2022-12-14T12:46:09.265531Z"
    },
    "papermill": {
     "duration": null,
     "end_time": null,
     "exception": null,
     "start_time": null,
     "status": "pending"
    },
    "tags": []
   },
   "outputs": [],
   "source": [
    "show_null_values(X, X_test)"
   ]
  },
  {
   "cell_type": "code",
   "execution_count": null,
   "id": "bcba4439",
   "metadata": {
    "execution": {
     "iopub.execute_input": "2022-12-14T12:46:13.742787Z",
     "iopub.status.busy": "2022-12-14T12:46:13.742401Z",
     "iopub.status.idle": "2022-12-14T12:46:13.776219Z",
     "shell.execute_reply": "2022-12-14T12:46:13.775071Z",
     "shell.execute_reply.started": "2022-12-14T12:46:13.742754Z"
    },
    "papermill": {
     "duration": null,
     "end_time": null,
     "exception": null,
     "start_time": null,
     "status": "pending"
    },
    "tags": []
   },
   "outputs": [],
   "source": [
    "\n",
    "\n",
    "X_y = X.copy()\n",
    "X_y['SalesPrice'] = y\n",
    "X_y.sample()\n",
    "\n"
   ]
  },
  {
   "cell_type": "code",
   "execution_count": null,
   "id": "ae359ce7",
   "metadata": {
    "execution": {
     "iopub.execute_input": "2022-12-14T12:46:15.134727Z",
     "iopub.status.busy": "2022-12-14T12:46:15.134361Z",
     "iopub.status.idle": "2022-12-14T12:46:15.145395Z",
     "shell.execute_reply": "2022-12-14T12:46:15.144035Z",
     "shell.execute_reply.started": "2022-12-14T12:46:15.134697Z"
    },
    "papermill": {
     "duration": null,
     "end_time": null,
     "exception": null,
     "start_time": null,
     "status": "pending"
    },
    "tags": []
   },
   "outputs": [],
   "source": [
    "def univariate_numerical_plot(df, x):\n",
    "    fig, ax = plt.subplots(1, 3, figsize=(20, 6), dpi=100)\n",
    "    \n",
    "    # 0) histogram\n",
    "    sbn.histplot(data=df, x=x, kde=True, ax=ax[0], bins=min(df[x].nunique(),10), kde_kws={'bw_adjust':3})\n",
    "    sbn.despine(bottom=True, left=True)\n",
    "    ax[0].set_title('histogram')\n",
    "    ax[0].set_xlabel(xlabel=x)\n",
    "    \n",
    "    # 1) box plot\n",
    "    sbn.boxplot(data=df, x=x, ax=ax[1])\n",
    "    ax[1].set_title('boxplot')\n",
    "    ax[1].set_ylabel(ylabel=x)\n",
    "    \n",
    "    # 2) scatterplot\n",
    "    sbn.scatterplot(x=df[x], y=y, ax=ax[2], hue=y ,palette='coolwarm')\n",
    "    plt.legend([],[], frameon=False)\n",
    "    \n",
    "    # To add border\n",
    "    fig.subplots_adjust(top=0.85, bottom=0.15, left=0.2, hspace=0.8)\n",
    "    fig.patch.set_linewidth(10)\n",
    "    fig.patch.set_edgecolor('cornflowerblue')\n",
    "    \n",
    "    fig.tight_layout()\n",
    "    fig.text(0.5, 1, f'Distribution of {x}', size=25, ha=\"center\", va=\"center\")\n",
    "    plt.show()"
   ]
  },
  {
   "cell_type": "code",
   "execution_count": null,
   "id": "a1006996",
   "metadata": {
    "execution": {
     "iopub.execute_input": "2022-12-14T12:46:16.009873Z",
     "iopub.status.busy": "2022-12-14T12:46:16.009503Z",
     "iopub.status.idle": "2022-12-14T12:46:16.882508Z",
     "shell.execute_reply": "2022-12-14T12:46:16.881445Z",
     "shell.execute_reply.started": "2022-12-14T12:46:16.009843Z"
    },
    "papermill": {
     "duration": null,
     "end_time": null,
     "exception": null,
     "start_time": null,
     "status": "pending"
    },
    "tags": []
   },
   "outputs": [],
   "source": [
    "univariate_numerical_plot(X_y,'SalesPrice')"
   ]
  },
  {
   "cell_type": "code",
   "execution_count": null,
   "id": "949dd23e",
   "metadata": {
    "execution": {
     "iopub.execute_input": "2022-12-14T12:46:16.885731Z",
     "iopub.status.busy": "2022-12-14T12:46:16.884757Z",
     "iopub.status.idle": "2022-12-14T12:46:16.891981Z",
     "shell.execute_reply": "2022-12-14T12:46:16.890828Z",
     "shell.execute_reply.started": "2022-12-14T12:46:16.885695Z"
    },
    "papermill": {
     "duration": null,
     "end_time": null,
     "exception": null,
     "start_time": null,
     "status": "pending"
    },
    "tags": []
   },
   "outputs": [],
   "source": [
    "def make_mi_scores(X, y):\n",
    "    X = X.copy()\n",
    "    # All discrete features should now have integer dtypes\n",
    "    # discrete_features = [pd.api.types.is_integer_dtype(t) for t in X.dtypes]\n",
    "    mi_scores = mutual_info_regression(X.select_dtypes('number'), y, random_state=0)\n",
    "    mi_scores = pd.DataFrame(mi_scores.round(2), columns=[\"MI_Scores\"], index=X.select_dtypes('number').columns)\n",
    "    return mi_scores"
   ]
  },
  {
   "cell_type": "code",
   "execution_count": null,
   "id": "b67848fc",
   "metadata": {
    "execution": {
     "iopub.execute_input": "2022-12-14T12:46:17.768965Z",
     "iopub.status.busy": "2022-12-14T12:46:17.768363Z",
     "iopub.status.idle": "2022-12-14T12:46:18.571805Z",
     "shell.execute_reply": "2022-12-14T12:46:18.570572Z",
     "shell.execute_reply.started": "2022-12-14T12:46:17.768930Z"
    },
    "papermill": {
     "duration": null,
     "end_time": null,
     "exception": null,
     "start_time": null,
     "status": "pending"
    },
    "tags": []
   },
   "outputs": [],
   "source": [
    "mi_scores = make_mi_scores(X, y)\n",
    "linear_corr = pd.DataFrame(X.corrwith(y).round(2), columns=['Lin_Correlation'])\n",
    "\n",
    "corr_with_price = pd.concat([mi_scores, linear_corr], axis=1)\n",
    "corr_with_price = corr_with_price.sort_values('MI_Scores',ascending=False)\n",
    "\n",
    "corr_with_price"
   ]
  },
  {
   "cell_type": "code",
   "execution_count": null,
   "id": "f0e1b899",
   "metadata": {
    "execution": {
     "iopub.execute_input": "2022-12-14T12:46:19.297612Z",
     "iopub.status.busy": "2022-12-14T12:46:19.297191Z",
     "iopub.status.idle": "2022-12-14T12:46:19.303173Z",
     "shell.execute_reply": "2022-12-14T12:46:19.301823Z",
     "shell.execute_reply.started": "2022-12-14T12:46:19.297577Z"
    },
    "papermill": {
     "duration": null,
     "end_time": null,
     "exception": null,
     "start_time": null,
     "status": "pending"
    },
    "tags": []
   },
   "outputs": [],
   "source": [
    "top_features = corr_with_price.index[1:6]"
   ]
  },
  {
   "cell_type": "code",
   "execution_count": null,
   "id": "eebc30f6",
   "metadata": {
    "execution": {
     "iopub.execute_input": "2022-12-14T12:46:20.201389Z",
     "iopub.status.busy": "2022-12-14T12:46:20.200969Z",
     "iopub.status.idle": "2022-12-14T12:46:25.385906Z",
     "shell.execute_reply": "2022-12-14T12:46:25.384760Z",
     "shell.execute_reply.started": "2022-12-14T12:46:20.201354Z"
    },
    "papermill": {
     "duration": null,
     "end_time": null,
     "exception": null,
     "start_time": null,
     "status": "pending"
    },
    "tags": []
   },
   "outputs": [],
   "source": [
    "for feature in top_features:\n",
    "    univariate_numerical_plot(X,feature)"
   ]
  },
  {
   "cell_type": "code",
   "execution_count": null,
   "id": "2bf0a83f",
   "metadata": {
    "execution": {
     "iopub.execute_input": "2022-12-14T12:46:25.387986Z",
     "iopub.status.busy": "2022-12-14T12:46:25.387655Z",
     "iopub.status.idle": "2022-12-14T12:46:25.401125Z",
     "shell.execute_reply": "2022-12-14T12:46:25.399546Z",
     "shell.execute_reply.started": "2022-12-14T12:46:25.387956Z"
    },
    "papermill": {
     "duration": null,
     "end_time": null,
     "exception": null,
     "start_time": null,
     "status": "pending"
    },
    "tags": []
   },
   "outputs": [],
   "source": [
    "threshold = 0.01\n",
    "numerical_cols = [cname for cname in X.select_dtypes('number').columns\n",
    "                  if corr_with_price.MI_Scores[cname] > threshold]\n",
    "\n",
    "# Keep selected columns only\n",
    "selected_cols = numerical_cols\n",
    "X = X[selected_cols]\n",
    "X_test = X_test[selected_cols]\n",
    "after = X.shape[1]\n",
    "\n",
    "# Selected Features for Model Training or Fitting\n",
    "print(f'Out of {before} features, {after} fetures are having MI_Scores more than {threshold}.')"
   ]
  },
  {
   "cell_type": "code",
   "execution_count": null,
   "id": "2467bbcd",
   "metadata": {
    "execution": {
     "iopub.execute_input": "2022-12-14T12:46:25.853718Z",
     "iopub.status.busy": "2022-12-14T12:46:25.853303Z",
     "iopub.status.idle": "2022-12-14T12:46:25.887111Z",
     "shell.execute_reply": "2022-12-14T12:46:25.886063Z",
     "shell.execute_reply.started": "2022-12-14T12:46:25.853684Z"
    },
    "papermill": {
     "duration": null,
     "end_time": null,
     "exception": null,
     "start_time": null,
     "status": "pending"
    },
    "tags": []
   },
   "outputs": [],
   "source": [
    "info = pd.DataFrame(X.dtypes, columns=['Dtype'])\n",
    "info['Unique'] = X.nunique().values\n",
    "info['Null'] = X.isnull().sum().values\n",
    "info.sort_values(['Dtype', 'Unique'])"
   ]
  },
  {
   "cell_type": "code",
   "execution_count": null,
   "id": "73a47b03",
   "metadata": {
    "execution": {
     "iopub.execute_input": "2022-12-14T12:46:28.226193Z",
     "iopub.status.busy": "2022-12-14T12:46:28.225756Z",
     "iopub.status.idle": "2022-12-14T12:46:28.230681Z",
     "shell.execute_reply": "2022-12-14T12:46:28.229912Z",
     "shell.execute_reply.started": "2022-12-14T12:46:28.226158Z"
    },
    "papermill": {
     "duration": null,
     "end_time": null,
     "exception": null,
     "start_time": null,
     "status": "pending"
    },
    "tags": []
   },
   "outputs": [],
   "source": [
    "xgb = XGBRegressor(eval_metric='rmse')"
   ]
  },
  {
   "cell_type": "code",
   "execution_count": null,
   "id": "6874ffc3",
   "metadata": {
    "execution": {
     "iopub.execute_input": "2022-12-14T12:46:31.062881Z",
     "iopub.status.busy": "2022-12-14T12:46:31.062510Z",
     "iopub.status.idle": "2022-12-14T12:46:31.071538Z",
     "shell.execute_reply": "2022-12-14T12:46:31.070254Z",
     "shell.execute_reply.started": "2022-12-14T12:46:31.062851Z"
    },
    "papermill": {
     "duration": null,
     "end_time": null,
     "exception": null,
     "start_time": null,
     "status": "pending"
    },
    "tags": []
   },
   "outputs": [],
   "source": [
    "param_grid = [\n",
    "    {'subsample': [0.5], 'n_estimators': [1400], \n",
    "     'max_depth': [5], 'learning_rate': [0.02],\n",
    "     'colsample_bytree': [0.4], 'colsample_bylevel': [0.5],\n",
    "     'reg_alpha':[1], 'reg_lambda': [1], 'min_child_weight':[2]}\n",
    "]\n",
    "grid_search = GridSearchCV(xgb, param_grid, cv=3, verbose=1, scoring='neg_root_mean_squared_error')"
   ]
  },
  {
   "cell_type": "code",
   "execution_count": null,
   "id": "d676ea9d",
   "metadata": {
    "execution": {
     "iopub.execute_input": "2022-12-14T12:46:32.626694Z",
     "iopub.status.busy": "2022-12-14T12:46:32.625932Z",
     "iopub.status.idle": "2022-12-14T12:46:50.909390Z",
     "shell.execute_reply": "2022-12-14T12:46:50.908424Z",
     "shell.execute_reply.started": "2022-12-14T12:46:32.626652Z"
    },
    "papermill": {
     "duration": null,
     "end_time": null,
     "exception": null,
     "start_time": null,
     "status": "pending"
    },
    "tags": []
   },
   "outputs": [],
   "source": [
    "grid_search.fit(X, np.log(y));"
   ]
  },
  {
   "cell_type": "code",
   "execution_count": null,
   "id": "3072354a",
   "metadata": {
    "execution": {
     "iopub.execute_input": "2022-12-14T12:46:56.177729Z",
     "iopub.status.busy": "2022-12-14T12:46:56.176965Z",
     "iopub.status.idle": "2022-12-14T12:46:56.201888Z",
     "shell.execute_reply": "2022-12-14T12:46:56.200607Z",
     "shell.execute_reply.started": "2022-12-14T12:46:56.177693Z"
    },
    "papermill": {
     "duration": null,
     "end_time": null,
     "exception": null,
     "start_time": null,
     "status": "pending"
    },
    "tags": []
   },
   "outputs": [],
   "source": [
    "cv_results = pd.DataFrame(grid_search.cv_results_)\n",
    "display(cv_results.sort_values('rank_test_score')[:6])"
   ]
  },
  {
   "cell_type": "code",
   "execution_count": null,
   "id": "4421e0d3",
   "metadata": {
    "execution": {
     "iopub.execute_input": "2022-12-14T12:46:56.697191Z",
     "iopub.status.busy": "2022-12-14T12:46:56.696336Z",
     "iopub.status.idle": "2022-12-14T12:46:56.704125Z",
     "shell.execute_reply": "2022-12-14T12:46:56.702975Z",
     "shell.execute_reply.started": "2022-12-14T12:46:56.697157Z"
    },
    "papermill": {
     "duration": null,
     "end_time": null,
     "exception": null,
     "start_time": null,
     "status": "pending"
    },
    "tags": []
   },
   "outputs": [],
   "source": [
    "grid_search.best_params_"
   ]
  },
  {
   "cell_type": "code",
   "execution_count": null,
   "id": "6b879957",
   "metadata": {
    "execution": {
     "iopub.execute_input": "2022-12-14T12:46:57.726103Z",
     "iopub.status.busy": "2022-12-14T12:46:57.725259Z",
     "iopub.status.idle": "2022-12-14T12:46:57.762761Z",
     "shell.execute_reply": "2022-12-14T12:46:57.761895Z",
     "shell.execute_reply.started": "2022-12-14T12:46:57.726057Z"
    },
    "papermill": {
     "duration": null,
     "end_time": null,
     "exception": null,
     "start_time": null,
     "status": "pending"
    },
    "tags": []
   },
   "outputs": [],
   "source": [
    "print(\"RMSLE on training data:\",round(-grid_search.score(X, np.log(y)),4))\n",
    "print(\"RMSLE on validation data:\",round(-grid_search.best_score_,4))"
   ]
  },
  {
   "cell_type": "code",
   "execution_count": null,
   "id": "a50dd6df",
   "metadata": {
    "execution": {
     "iopub.execute_input": "2022-12-14T12:46:58.292738Z",
     "iopub.status.busy": "2022-12-14T12:46:58.291967Z",
     "iopub.status.idle": "2022-12-14T12:46:59.614249Z",
     "shell.execute_reply": "2022-12-14T12:46:59.613442Z",
     "shell.execute_reply.started": "2022-12-14T12:46:58.292702Z"
    },
    "papermill": {
     "duration": null,
     "end_time": null,
     "exception": null,
     "start_time": null,
     "status": "pending"
    },
    "tags": []
   },
   "outputs": [],
   "source": [
    "Feature_Imp = grid_search.best_estimator_.feature_importances_\n",
    "Feature_Imp_sorted_series = pd.Series(Feature_Imp,X.columns).sort_values(ascending=True)\n",
    "\n",
    "# Plot horizaontal bar plot\n",
    "plt.figure(figsize=(14,20), dpi=120)\n",
    "palette = sns.color_palette(\"coolwarm\", len(X.columns)).as_hex()\n",
    "ax = Feature_Imp_sorted_series.plot.barh(width=0.8 ,color=palette)\n",
    "ax.set_title('Feature Importance in XgBoost')\n",
    "plt.show()"
   ]
  },
  {
   "cell_type": "code",
   "execution_count": null,
   "id": "e0237fc4",
   "metadata": {
    "execution": {
     "iopub.execute_input": "2022-12-14T12:46:59.616321Z",
     "iopub.status.busy": "2022-12-14T12:46:59.615806Z",
     "iopub.status.idle": "2022-12-14T12:46:59.647588Z",
     "shell.execute_reply": "2022-12-14T12:46:59.646675Z",
     "shell.execute_reply.started": "2022-12-14T12:46:59.616286Z"
    },
    "papermill": {
     "duration": null,
     "end_time": null,
     "exception": null,
     "start_time": null,
     "status": "pending"
    },
    "tags": []
   },
   "outputs": [],
   "source": [
    "y_preds = np.exp(grid_search.predict(X_test))"
   ]
  },
  {
   "cell_type": "code",
   "execution_count": null,
   "id": "517a00c9",
   "metadata": {
    "execution": {
     "iopub.execute_input": "2022-12-14T12:46:59.649430Z",
     "iopub.status.busy": "2022-12-14T12:46:59.648892Z",
     "iopub.status.idle": "2022-12-14T12:46:59.660202Z",
     "shell.execute_reply": "2022-12-14T12:46:59.659069Z",
     "shell.execute_reply.started": "2022-12-14T12:46:59.649398Z"
    },
    "papermill": {
     "duration": null,
     "end_time": null,
     "exception": null,
     "start_time": null,
     "status": "pending"
    },
    "tags": []
   },
   "outputs": [],
   "source": [
    "\n",
    "\n",
    "output = pd.DataFrame({'Id': X_test.index,\n",
    "                       'SalePrice': y_preds.round()})\n",
    "output.to_csv('submission.csv', index=False)\n",
    "\n"
   ]
  },
  {
   "cell_type": "code",
   "execution_count": null,
   "id": "10fc58ff",
   "metadata": {
    "papermill": {
     "duration": null,
     "end_time": null,
     "exception": null,
     "start_time": null,
     "status": "pending"
    },
    "tags": []
   },
   "outputs": [],
   "source": []
  }
 ],
 "metadata": {
  "kernelspec": {
   "display_name": "Python 3",
   "language": "python",
   "name": "python3"
  },
  "language_info": {
   "codemirror_mode": {
    "name": "ipython",
    "version": 3
   },
   "file_extension": ".py",
   "mimetype": "text/x-python",
   "name": "python",
   "nbconvert_exporter": "python",
   "pygments_lexer": "ipython3",
   "version": "3.7.12"
  },
  "papermill": {
   "default_parameters": {},
   "duration": 11.002212,
   "end_time": "2022-12-14T12:48:42.668042",
   "environment_variables": {},
   "exception": true,
   "input_path": "__notebook__.ipynb",
   "output_path": "__notebook__.ipynb",
   "parameters": {},
   "start_time": "2022-12-14T12:48:31.665830",
   "version": "2.3.4"
  }
 },
 "nbformat": 4,
 "nbformat_minor": 5
}
